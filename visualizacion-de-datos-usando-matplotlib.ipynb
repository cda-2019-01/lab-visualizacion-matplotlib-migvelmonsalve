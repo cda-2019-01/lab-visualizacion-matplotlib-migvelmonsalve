{
 "cells": [
  {
   "cell_type": "markdown",
   "metadata": {},
   "source": [
    "LAB: Visualización de datos usando Matplotlib\n",
    "=========================================="
   ]
  },
  {
   "cell_type": "code",
   "execution_count": 1,
   "metadata": {},
   "outputs": [],
   "source": [
    "## inicialización\n",
    "import numpy as np\n",
    "import matplotlib.pyplot as plt\n",
    "import matplotlib as mpl\n",
    "import pandas\n",
    "%matplotlib inline"
   ]
  },
  {
   "cell_type": "markdown",
   "metadata": {},
   "source": [
    "## Punto 1"
   ]
  },
  {
   "cell_type": "markdown",
   "metadata": {},
   "source": [
    "Construya una gráfica similar a la siguiente usando el archivo `indicadores-mundiales.csv`. Se grafica la suma del porcetaje de la población por regiones.\n",
    "\n",
    "![act2](images/suma-pob-region-edades-2.png)\n"
   ]
  },
  {
   "cell_type": "code",
   "execution_count": null,
   "metadata": {},
   "outputs": [],
   "source": []
  },
  {
   "cell_type": "markdown",
   "metadata": {},
   "source": [
    "## Punto 2\n",
    "\n",
    "Construya una gráfica similar a la siguiente usando el archivo `indicadores-mundiales.csv`. Se grafica la suma del porcetaje de la población por regiones.\n",
    "\n",
    "![act2](images/suma-pob-region-edades-3.png)\n"
   ]
  },
  {
   "cell_type": "code",
   "execution_count": null,
   "metadata": {},
   "outputs": [],
   "source": []
  },
  {
   "cell_type": "markdown",
   "metadata": {},
   "source": [
    "## Punto 3\n",
    "Construya una gráfica similar a la siguiente usando el archivo `indicadores-mundiales.csv`. Se grafica la suma del porcetaje de la población por regiones.\n",
    "\n",
    "![act3](images/suma-pob-region-edades-4.png)"
   ]
  },
  {
   "cell_type": "code",
   "execution_count": null,
   "metadata": {},
   "outputs": [],
   "source": []
  },
  {
   "cell_type": "markdown",
   "metadata": {},
   "source": [
    "## Punto 4\n",
    "\n",
    "Construya una gráfica similar a la siguiente usando el archivo `indicadores-mundiales.csv`. Promedio de gastos per capita por año.\n",
    "\n",
    "![act4](images/prom-gastos-salud-per-capita-ano.png)"
   ]
  },
  {
   "cell_type": "code",
   "execution_count": null,
   "metadata": {},
   "outputs": [],
   "source": []
  },
  {
   "cell_type": "markdown",
   "metadata": {},
   "source": [
    "## Punto 5\n",
    "\n",
    "Construya una gráfica similar a la siguiente usando el archivo `indicadores-mundiales.csv`. Promedio de gastos per capita por año.\n",
    "\n",
    "![act5](images/prom-region-edades-ano.png)"
   ]
  },
  {
   "cell_type": "markdown",
   "metadata": {},
   "source": [
    " "
   ]
  },
  {
   "cell_type": "markdown",
   "metadata": {},
   "source": [
    "# Punto 1"
   ]
  },
  {
   "cell_type": "code",
   "execution_count": 2,
   "metadata": {},
   "outputs": [],
   "source": [
    "import numpy as np\n",
    "import matplotlib.pyplot as plt\n",
    "import matplotlib as mpl\n",
    "import pandas as pd\n",
    "%matplotlib inline"
   ]
  },
  {
   "cell_type": "code",
   "execution_count": 3,
   "metadata": {},
   "outputs": [],
   "source": [
    "df = pd.read_csv('indicadores-mundiales.csv',encoding='latin-1')"
   ]
  },
  {
   "cell_type": "code",
   "execution_count": 4,
   "metadata": {},
   "outputs": [
    {
     "data": {
      "text/html": [
       "<div>\n",
       "<style scoped>\n",
       "    .dataframe tbody tr th:only-of-type {\n",
       "        vertical-align: middle;\n",
       "    }\n",
       "\n",
       "    .dataframe tbody tr th {\n",
       "        vertical-align: top;\n",
       "    }\n",
       "\n",
       "    .dataframe thead th {\n",
       "        text-align: right;\n",
       "    }\n",
       "</style>\n",
       "<table border=\"1\" class=\"dataframe\">\n",
       "  <thead>\n",
       "    <tr style=\"text-align: right;\">\n",
       "      <th></th>\n",
       "      <th>Poblacion 0-14</th>\n",
       "      <th>Poblacion 15-64</th>\n",
       "      <th>Poblacion 65+</th>\n",
       "    </tr>\n",
       "    <tr>\n",
       "      <th>Region</th>\n",
       "      <th></th>\n",
       "      <th></th>\n",
       "      <th></th>\n",
       "    </tr>\n",
       "  </thead>\n",
       "  <tbody>\n",
       "    <tr>\n",
       "      <th>Asia</th>\n",
       "      <td>5318.6</td>\n",
       "      <td>10668.7</td>\n",
       "      <td>1013.0</td>\n",
       "    </tr>\n",
       "    <tr>\n",
       "      <th>Europa</th>\n",
       "      <td>3780.2</td>\n",
       "      <td>13830.6</td>\n",
       "      <td>2890.5</td>\n",
       "    </tr>\n",
       "    <tr>\n",
       "      <th>Las Americas</th>\n",
       "      <td>5375.5</td>\n",
       "      <td>10901.8</td>\n",
       "      <td>1223.1</td>\n",
       "    </tr>\n",
       "    <tr>\n",
       "      <th>Oceania</th>\n",
       "      <td>1784.8</td>\n",
       "      <td>3133.1</td>\n",
       "      <td>282.5</td>\n",
       "    </tr>\n",
       "    <tr>\n",
       "      <th>Oriente Medio</th>\n",
       "      <td>1754.7</td>\n",
       "      <td>3251.1</td>\n",
       "      <td>194.2</td>\n",
       "    </tr>\n",
       "    <tr>\n",
       "      <th>africa</th>\n",
       "      <td>11136.2</td>\n",
       "      <td>14452.7</td>\n",
       "      <td>911.7</td>\n",
       "    </tr>\n",
       "  </tbody>\n",
       "</table>\n",
       "</div>"
      ],
      "text/plain": [
       "               Poblacion 0-14  Poblacion 15-64  Poblacion 65+\n",
       "Region                                                       \n",
       "Asia                   5318.6          10668.7         1013.0\n",
       "Europa                 3780.2          13830.6         2890.5\n",
       "Las Americas           5375.5          10901.8         1223.1\n",
       "Oceania                1784.8           3133.1          282.5\n",
       "Oriente Medio          1754.7           3251.1          194.2\n",
       "africa                11136.2          14452.7          911.7"
      ]
     },
     "execution_count": 4,
     "metadata": {},
     "output_type": "execute_result"
    }
   ],
   "source": [
    "data = df.groupby('Region').sum()[['Poblacion 0-14', 'Poblacion 15-64', 'Poblacion 65+']]\n",
    "data"
   ]
  },
  {
   "cell_type": "code",
   "execution_count": 5,
   "metadata": {},
   "outputs": [
    {
     "data": {
      "image/png": "[encoded data removed]",
      "text/plain": [
       "<Figure size 1080x720 with 6 Axes>"
      ]
     },
     "metadata": {
      "needs_background": "light"
     },
     "output_type": "display_data"
    }
   ],
   "source": [
    "fig, axs = plt.subplots(1, 6, sharey='row', figsize=(15, 10));\n",
    "plt.subplots_adjust(wspace = 0)\n",
    "fig.suptitle('Region')\n",
    "colors=[\"#0000CD\", \"#FF8C00\", \"#008000\"]\n",
    "for index, colname in enumerate(data.index):\n",
    "    axs[index].scatter(data.columns,data.iloc[index],facecolors='none', edgecolors=[\"#0000CD\", \"#FF8C00\", \"#008000\"],s=200)\n",
    "    axs[index].set_xticklabels(data.columns,rotation='vertical')\n",
    "    axs[index].margins(x=0.2)\n",
    "    axs[index].set_title(data.index[index]);"
   ]
  },
  {
   "cell_type": "markdown",
   "metadata": {},
   "source": [
    "# Punto 2\n"
   ]
  },
  {
   "cell_type": "code",
   "execution_count": 6,
   "metadata": {},
   "outputs": [
    {
     "data": {
      "image/png": "[encoded data removed]",
      "text/plain": [
       "<Figure size 1080x720 with 6 Axes>"
      ]
     },
     "metadata": {
      "needs_background": "light"
     },
     "output_type": "display_data"
    }
   ],
   "source": [
    "fig, axs = plt.subplots(1, 6, sharey='row', figsize=(15, 10));\n",
    "plt.subplots_adjust(wspace = 0)\n",
    "fig.suptitle('Region')\n",
    "colors=[\"#0000CD\", \"#FF8C00\", \"#008000\"]\n",
    "for index, colname in enumerate(data.index):\n",
    "    axs[index].bar(data.columns,data.iloc[index], color=[\"#0000CD\", \"#FF8C00\", \"#008000\"])\n",
    "    axs[index].set_xticklabels(data.columns,rotation='vertical')\n",
    "    axs[index].margins(x=0.2)\n",
    "    axs[index].set_title(data.index[index]);"
   ]
  },
  {
   "cell_type": "markdown",
   "metadata": {},
   "source": [
    "# Punto 3"
   ]
  },
  {
   "cell_type": "code",
   "execution_count": 7,
   "metadata": {},
   "outputs": [
    {
     "data": {
      "image/png": "[encoded data removed]",
      "text/plain": [
       "<Figure size 1080x720 with 3 Axes>"
      ]
     },
     "metadata": {
      "needs_background": "light"
     },
     "output_type": "display_data"
    }
   ],
   "source": [
    "fig, axs = plt.subplots(3, 1, sharex='row', figsize=(15, 10));\n",
    "plt.subplots_adjust(wspace = 0,hspace=0)\n",
    "fig.suptitle('Region')\n",
    "color=[\"#0000CD\", \"#FF8C00\", \"#008000\"]\n",
    "colors=[\"#0000CD\", \"#FF8C00\", \"#008000\"]\n",
    "for index, colname in enumerate(data.columns):\n",
    "    axs[index].bar(data.index,data[colname], color=colors[index])\n",
    "    axs[index].set_ylabel('Valor')\n",
    "    axs[index].set_xticklabels(data.index)\n",
    "    axs[index].margins(x=0.2,y=0.1)\n",
    "    axs[index].set_title(colname,x=-0.15,y=0.5);"
   ]
  },
  {
   "cell_type": "markdown",
   "metadata": {},
   "source": [
    "# Punto 4"
   ]
  },
  {
   "cell_type": "code",
   "execution_count": 8,
   "metadata": {},
   "outputs": [
    {
     "name": "stderr",
     "output_type": "stream",
     "text": [
      "D:\\Anaconda3\\lib\\site-packages\\ipykernel_launcher.py:3: SettingWithCopyWarning: \n",
      "A value is trying to be set on a copy of a slice from a DataFrame.\n",
      "Try using .loc[row_indexer,col_indexer] = value instead\n",
      "\n",
      "See the caveats in the documentation: http://pandas.pydata.org/pandas-docs/stable/indexing.html#indexing-view-versus-copy\n",
      "  This is separate from the ipykernel package so we can avoid doing imports until\n",
      "D:\\Anaconda3\\lib\\site-packages\\ipykernel_launcher.py:4: SettingWithCopyWarning: \n",
      "A value is trying to be set on a copy of a slice from a DataFrame.\n",
      "Try using .loc[row_indexer,col_indexer] = value instead\n",
      "\n",
      "See the caveats in the documentation: http://pandas.pydata.org/pandas-docs/stable/indexing.html#indexing-view-versus-copy\n",
      "  after removing the cwd from sys.path.\n"
     ]
    },
    {
     "data": {
      "text/plain": [
       "[Text(0, 0, '2000'),\n",
       " Text(0, 0, '2001'),\n",
       " Text(0, 0, '2002'),\n",
       " Text(0, 0, '2003'),\n",
       " Text(0, 0, '2004')]"
      ]
     },
     "execution_count": 8,
     "metadata": {},
     "output_type": "execute_result"
    },
    {
     "data": {
      "image/png": "[encoded data removed]",
      "text/plain": [
       "<Figure size 648x432 with 1 Axes>"
      ]
     },
     "metadata": {
      "needs_background": "light"
     },
     "output_type": "display_data"
    }
   ],
   "source": [
    "df.columns\n",
    "data2 = df[['Ano','Gasto en salud (per capita)']]\n",
    "data2['Ano'] = pd.to_datetime(data2['Ano'])\n",
    "data2['Ano'] = data2['Ano'].dt.strftime('%Y')\n",
    "data2 = data2.dropna()\n",
    "data2.sort_values(by=['Ano'])\n",
    "years = set(data2['Ano'])\n",
    "years = list(years)\n",
    "years.sort()\n",
    "dataplot = []\n",
    "for year in years:\n",
    "    dataplot.append(data2[data2['Ano']==str(year)]['Gasto en salud (per capita)'])\n",
    "\n",
    "fig = plt.figure(1, figsize=(9, 6))\n",
    "ax = fig.add_subplot(111)\n",
    "ax.boxplot(dataplot,showmeans=True,meanline=True,sym='')\n",
    "ax.set_xticklabels(years)"
   ]
  },
  {
   "cell_type": "markdown",
   "metadata": {},
   "source": [
    "# Punto 5\n"
   ]
  },
  {
   "cell_type": "code",
   "execution_count": 10,
   "metadata": {},
   "outputs": [
    {
     "name": "stderr",
     "output_type": "stream",
     "text": [
      "D:\\Anaconda3\\lib\\site-packages\\ipykernel_launcher.py:2: SettingWithCopyWarning: \n",
      "A value is trying to be set on a copy of a slice from a DataFrame.\n",
      "Try using .loc[row_indexer,col_indexer] = value instead\n",
      "\n",
      "See the caveats in the documentation: http://pandas.pydata.org/pandas-docs/stable/indexing.html#indexing-view-versus-copy\n",
      "  \n",
      "D:\\Anaconda3\\lib\\site-packages\\ipykernel_launcher.py:3: SettingWithCopyWarning: \n",
      "A value is trying to be set on a copy of a slice from a DataFrame.\n",
      "Try using .loc[row_indexer,col_indexer] = value instead\n",
      "\n",
      "See the caveats in the documentation: http://pandas.pydata.org/pandas-docs/stable/indexing.html#indexing-view-versus-copy\n",
      "  This is separate from the ipykernel package so we can avoid doing imports until\n"
     ]
    },
    {
     "data": {
      "text/html": [
       "<div>\n",
       "<style scoped>\n",
       "    .dataframe tbody tr th:only-of-type {\n",
       "        vertical-align: middle;\n",
       "    }\n",
       "\n",
       "    .dataframe tbody tr th {\n",
       "        vertical-align: top;\n",
       "    }\n",
       "\n",
       "    .dataframe thead th {\n",
       "        text-align: right;\n",
       "    }\n",
       "</style>\n",
       "<table border=\"1\" class=\"dataframe\">\n",
       "  <thead>\n",
       "    <tr style=\"text-align: right;\">\n",
       "      <th></th>\n",
       "      <th></th>\n",
       "      <th>Poblacion 0-14</th>\n",
       "      <th>Poblacion 15-64</th>\n",
       "      <th>Poblacion 65+</th>\n",
       "    </tr>\n",
       "    <tr>\n",
       "      <th>Region</th>\n",
       "      <th>Ano</th>\n",
       "      <th></th>\n",
       "      <th></th>\n",
       "      <th></th>\n",
       "    </tr>\n",
       "  </thead>\n",
       "  <tbody>\n",
       "    <tr>\n",
       "      <th rowspan=\"5\" valign=\"top\">Asia</th>\n",
       "      <th>2000</th>\n",
       "      <td>32.547059</td>\n",
       "      <td>61.779412</td>\n",
       "      <td>5.685294</td>\n",
       "    </tr>\n",
       "    <tr>\n",
       "      <th>2001</th>\n",
       "      <td>31.935294</td>\n",
       "      <td>62.244118</td>\n",
       "      <td>5.811765</td>\n",
       "    </tr>\n",
       "    <tr>\n",
       "      <th>2002</th>\n",
       "      <td>31.305882</td>\n",
       "      <td>62.744118</td>\n",
       "      <td>5.950000</td>\n",
       "    </tr>\n",
       "    <tr>\n",
       "      <th>2003</th>\n",
       "      <td>30.644118</td>\n",
       "      <td>63.255882</td>\n",
       "      <td>6.105882</td>\n",
       "    </tr>\n",
       "    <tr>\n",
       "      <th>2004</th>\n",
       "      <td>29.997059</td>\n",
       "      <td>63.761765</td>\n",
       "      <td>6.241176</td>\n",
       "    </tr>\n",
       "    <tr>\n",
       "      <th rowspan=\"5\" valign=\"top\">Europa</th>\n",
       "      <th>2000</th>\n",
       "      <td>19.158537</td>\n",
       "      <td>67.156098</td>\n",
       "      <td>13.692683</td>\n",
       "    </tr>\n",
       "    <tr>\n",
       "      <th>2001</th>\n",
       "      <td>18.800000</td>\n",
       "      <td>67.319512</td>\n",
       "      <td>13.882927</td>\n",
       "    </tr>\n",
       "    <tr>\n",
       "      <th>2002</th>\n",
       "      <td>18.436585</td>\n",
       "      <td>67.468293</td>\n",
       "      <td>14.097561</td>\n",
       "    </tr>\n",
       "    <tr>\n",
       "      <th>2003</th>\n",
       "      <td>18.068293</td>\n",
       "      <td>67.619512</td>\n",
       "      <td>14.314634</td>\n",
       "    </tr>\n",
       "    <tr>\n",
       "      <th>2004</th>\n",
       "      <td>17.736585</td>\n",
       "      <td>67.768293</td>\n",
       "      <td>14.512195</td>\n",
       "    </tr>\n",
       "    <tr>\n",
       "      <th rowspan=\"5\" valign=\"top\">Las Americas</th>\n",
       "      <th>2000</th>\n",
       "      <td>31.481081</td>\n",
       "      <td>61.681081</td>\n",
       "      <td>6.837838</td>\n",
       "    </tr>\n",
       "    <tr>\n",
       "      <th>2001</th>\n",
       "      <td>31.064865</td>\n",
       "      <td>62.016216</td>\n",
       "      <td>6.924324</td>\n",
       "    </tr>\n",
       "    <tr>\n",
       "      <th>2002</th>\n",
       "      <td>30.643243</td>\n",
       "      <td>62.354054</td>\n",
       "      <td>7.008108</td>\n",
       "    </tr>\n",
       "    <tr>\n",
       "      <th>2003</th>\n",
       "      <td>30.191892</td>\n",
       "      <td>62.713514</td>\n",
       "      <td>7.086486</td>\n",
       "    </tr>\n",
       "    <tr>\n",
       "      <th>2004</th>\n",
       "      <td>30.014815</td>\n",
       "      <td>62.870370</td>\n",
       "      <td>7.125926</td>\n",
       "    </tr>\n",
       "    <tr>\n",
       "      <th rowspan=\"4\" valign=\"top\">Oceania</th>\n",
       "      <th>2000</th>\n",
       "      <td>34.800000</td>\n",
       "      <td>59.900000</td>\n",
       "      <td>5.315385</td>\n",
       "    </tr>\n",
       "    <tr>\n",
       "      <th>2001</th>\n",
       "      <td>34.484615</td>\n",
       "      <td>60.115385</td>\n",
       "      <td>5.392308</td>\n",
       "    </tr>\n",
       "    <tr>\n",
       "      <th>2002</th>\n",
       "      <td>34.176923</td>\n",
       "      <td>60.361538</td>\n",
       "      <td>5.476923</td>\n",
       "    </tr>\n",
       "    <tr>\n",
       "      <th>2003</th>\n",
       "      <td>33.830769</td>\n",
       "      <td>60.630769</td>\n",
       "      <td>5.546154</td>\n",
       "    </tr>\n",
       "    <tr>\n",
       "      <th rowspan=\"4\" valign=\"top\">Oriente Medio</th>\n",
       "      <th>2000</th>\n",
       "      <td>34.338462</td>\n",
       "      <td>61.946154</td>\n",
       "      <td>3.707692</td>\n",
       "    </tr>\n",
       "    <tr>\n",
       "      <th>2001</th>\n",
       "      <td>33.961538</td>\n",
       "      <td>62.307692</td>\n",
       "      <td>3.738462</td>\n",
       "    </tr>\n",
       "    <tr>\n",
       "      <th>2002</th>\n",
       "      <td>33.569231</td>\n",
       "      <td>62.676923</td>\n",
       "      <td>3.746154</td>\n",
       "    </tr>\n",
       "    <tr>\n",
       "      <th>2003</th>\n",
       "      <td>33.107692</td>\n",
       "      <td>63.153846</td>\n",
       "      <td>3.746154</td>\n",
       "    </tr>\n",
       "    <tr>\n",
       "      <th rowspan=\"5\" valign=\"top\">africa</th>\n",
       "      <th>2000</th>\n",
       "      <td>42.490566</td>\n",
       "      <td>54.077358</td>\n",
       "      <td>3.430189</td>\n",
       "    </tr>\n",
       "    <tr>\n",
       "      <th>2001</th>\n",
       "      <td>42.258491</td>\n",
       "      <td>54.309434</td>\n",
       "      <td>3.445283</td>\n",
       "    </tr>\n",
       "    <tr>\n",
       "      <th>2002</th>\n",
       "      <td>42.018868</td>\n",
       "      <td>54.545283</td>\n",
       "      <td>3.447170</td>\n",
       "    </tr>\n",
       "    <tr>\n",
       "      <th>2003</th>\n",
       "      <td>41.788679</td>\n",
       "      <td>54.771698</td>\n",
       "      <td>3.437736</td>\n",
       "    </tr>\n",
       "    <tr>\n",
       "      <th>2004</th>\n",
       "      <td>41.560377</td>\n",
       "      <td>54.988679</td>\n",
       "      <td>3.441509</td>\n",
       "    </tr>\n",
       "  </tbody>\n",
       "</table>\n",
       "</div>"
      ],
      "text/plain": [
       "                    Poblacion 0-14  Poblacion 15-64  Poblacion 65+\n",
       "Region        Ano                                                 \n",
       "Asia          2000       32.547059        61.779412       5.685294\n",
       "              2001       31.935294        62.244118       5.811765\n",
       "              2002       31.305882        62.744118       5.950000\n",
       "              2003       30.644118        63.255882       6.105882\n",
       "              2004       29.997059        63.761765       6.241176\n",
       "Europa        2000       19.158537        67.156098      13.692683\n",
       "              2001       18.800000        67.319512      13.882927\n",
       "              2002       18.436585        67.468293      14.097561\n",
       "              2003       18.068293        67.619512      14.314634\n",
       "              2004       17.736585        67.768293      14.512195\n",
       "Las Americas  2000       31.481081        61.681081       6.837838\n",
       "              2001       31.064865        62.016216       6.924324\n",
       "              2002       30.643243        62.354054       7.008108\n",
       "              2003       30.191892        62.713514       7.086486\n",
       "              2004       30.014815        62.870370       7.125926\n",
       "Oceania       2000       34.800000        59.900000       5.315385\n",
       "              2001       34.484615        60.115385       5.392308\n",
       "              2002       34.176923        60.361538       5.476923\n",
       "              2003       33.830769        60.630769       5.546154\n",
       "Oriente Medio 2000       34.338462        61.946154       3.707692\n",
       "              2001       33.961538        62.307692       3.738462\n",
       "              2002       33.569231        62.676923       3.746154\n",
       "              2003       33.107692        63.153846       3.746154\n",
       "africa        2000       42.490566        54.077358       3.430189\n",
       "              2001       42.258491        54.309434       3.445283\n",
       "              2002       42.018868        54.545283       3.447170\n",
       "              2003       41.788679        54.771698       3.437736\n",
       "              2004       41.560377        54.988679       3.441509"
      ]
     },
     "execution_count": 10,
     "metadata": {},
     "output_type": "execute_result"
    }
   ],
   "source": [
    "data3 = df[['Ano','Region','Poblacion 0-14','Poblacion 15-64', 'Poblacion 65+']]\n",
    "data3['Ano'] = pd.to_datetime(data3['Ano'])\n",
    "data3['Ano'] = data3['Ano'].dt.strftime('%Y')\n",
    "data3 = data3.groupby(['Region','Ano']).mean()\n",
    "data3"
   ]
  },
  {
   "cell_type": "code",
   "execution_count": 11,
   "metadata": {},
   "outputs": [
    {
     "data": {
      "image/png": "[encoded data removed]",
      "text/plain": [
       "<Figure size 1080x720 with 18 Axes>"
      ]
     },
     "metadata": {
      "needs_background": "light"
     },
     "output_type": "display_data"
    }
   ],
   "source": [
    "fig, axs = plt.subplots(3, 6, sharex='row',sharey='row', figsize=(15, 10));\n",
    "plt.subplots_adjust(wspace = 0,hspace=0)\n",
    "fig.suptitle('Region/Ano')\n",
    "for index, colname in enumerate(data.columns):\n",
    "    for index2, colname2 in enumerate(data3.index.levels[0]):\n",
    "        #print(index,index2,data3.index.levels[1],data3.loc[colname2,colname])\n",
    "        axs[index,index2].plot(data3.loc[colname2,colname])\n",
    "        axs[index,index2].set_xticklabels(data3.index.levels[1],rotation='vertical')\n",
    "        axs[index,0].set_ylabel(colname + ' (%)')\n",
    "        axs[0,index2].set_title(colname2);"
   ]
  }
 ],
 "metadata": {
  "kernel_info": {
   "name": "python3"
  },
  "kernelspec": {
   "display_name": "Python 3",
   "language": "python",
   "name": "python3"
  },
  "language_info": {
   "codemirror_mode": {
    "name": "ipython",
    "version": 3
   },
   "file_extension": ".py",
   "mimetype": "text/x-python",
   "name": "python",
   "nbconvert_exporter": "python",
   "pygments_lexer": "ipython3",
   "version": "3.7.1"
  },
  "nteract": {
   "version": "0.7.1"
  },
  "varInspector": {
   "cols": {
    "lenName": 16,
    "lenType": 16,
    "lenVar": 40
   },
   "kernels_config": {
    "python": {
     "delete_cmd_postfix": "",
     "delete_cmd_prefix": "del ",
     "library": "var_list.py",
     "varRefreshCmd": "print(var_dic_list())"
    },
    "r": {
     "delete_cmd_postfix": ") ",
     "delete_cmd_prefix": "rm(",
     "library": "var_list.r",
     "varRefreshCmd": "cat(var_dic_list()) "
    }
   },
   "types_to_exclude": [
    "module",
    "function",
    "builtin_function_or_method",
    "instance",
    "_Feature"
   ],
   "window_display": false
  }
 },
 "nbformat": 4,
 "nbformat_minor": 2
}
